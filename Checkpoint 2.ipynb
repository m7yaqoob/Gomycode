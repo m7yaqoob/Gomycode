{
 "cells": [
  {
   "cell_type": "code",
   "execution_count": null,
   "id": "1aa081c7",
   "metadata": {},
   "outputs": [],
   "source": []
  },
  {
   "cell_type": "code",
   "execution_count": 105,
   "id": "ff80eebd",
   "metadata": {},
   "outputs": [
    {
     "name": "stdout",
     "output_type": "stream",
     "text": [
      "2030\n",
      "2065\n",
      "2100\n",
      "2135\n",
      "2170\n",
      "2205\n",
      "2240\n",
      "2275\n",
      "2310\n",
      "2345\n",
      "2380\n",
      "2415\n",
      "2450\n",
      "2485\n",
      "2520\n",
      "2555\n",
      "2590\n",
      "2625\n",
      "2660\n",
      "2695\n",
      "2730\n",
      "2765\n",
      "2800\n",
      "2835\n",
      "2870\n",
      "2905\n",
      "2940\n",
      "2975\n",
      "3010\n",
      "3045\n",
      "3080\n",
      "3115\n",
      "3150\n",
      "3185\n"
     ]
    }
   ],
   "source": [
    "# Q1 \n",
    "X= 2000\n",
    "while 1900 < X < 3200:\n",
    "    if X % 5 ==0:\n",
    "        if X % 7 == 0:\n",
    "            print(X)\n",
    "    X = X+1\n",
    "        "
   ]
  },
  {
   "cell_type": "code",
   "execution_count": 20,
   "id": "e0716c9a",
   "metadata": {},
   "outputs": [
    {
     "name": "stdout",
     "output_type": "stream",
     "text": [
      "5\n",
      "120\n"
     ]
    }
   ],
   "source": [
    "# Q2: \n",
    "Y = int(input())\n",
    "Z = 1\n",
    "while Y > 1:\n",
    "    Z = Z * Y\n",
    "    Y = Y-1\n",
    "print(Z)"
   ]
  },
  {
   "cell_type": "code",
   "execution_count": 46,
   "id": "4fb809ca",
   "metadata": {},
   "outputs": [
    {
     "name": "stdout",
     "output_type": "stream",
     "text": [
      "4\n",
      "{4: 16, 3: 9, 2: 4, 1: 1}\n"
     ]
    }
   ],
   "source": [
    "# Q3: \n",
    "I = int(input())\n",
    "MyDict={}\n",
    "F = 1\n",
    "while I >= 1:\n",
    "    F = I * I\n",
    "    MyDict.update({I:F})\n",
    "    I = I-1\n",
    "    F=1\n",
    "print(MyDict)"
   ]
  },
  {
   "cell_type": "code",
   "execution_count": 113,
   "id": "1a8519b3",
   "metadata": {},
   "outputs": [
    {
     "name": "stdout",
     "output_type": "stream",
     "text": [
      "Word: Mohamed\n",
      "['M', 'o', 'h', 'a', 'm', 'e', 'd']\n",
      "Which CH want to reomve: 1\n",
      "Mhamed\n"
     ]
    }
   ],
   "source": [
    "#Q4: \n",
    "\n",
    "S = input(\"Word: \")\n",
    "L = [C for C in S]\n",
    "print(L)\n",
    "\n",
    "R = int(input(\"Which CH want to reomve: \"))\n",
    "L.pop(R)\n",
    "print(''.join(L))"
   ]
  },
  {
   "cell_type": "markdown",
   "id": "85288f26",
   "metadata": {},
   "source": []
  },
  {
   "cell_type": "code",
   "execution_count": 86,
   "id": "ffa0abcf",
   "metadata": {},
   "outputs": [
    {
     "name": "stdout",
     "output_type": "stream",
     "text": [
      "Original array elements:\n",
      "[[0 1]\n",
      " [2 3]\n",
      " [4 5]]\n",
      "Array to list:\n",
      "[[0, 1], [2, 3], [4, 5]]\n"
     ]
    }
   ],
   "source": [
    "# Q5: \n",
    "import numpy as np\n",
    "x= np.arange(6).reshape(3, 2)\n",
    "print(\"Original array elements:\")\n",
    "print(x)\n",
    "print(\"Array to list:\")\n",
    "print(x.tolist())"
   ]
  },
  {
   "cell_type": "code",
   "execution_count": 92,
   "id": "2e62249d",
   "metadata": {},
   "outputs": [
    {
     "name": "stdout",
     "output_type": "stream",
     "text": [
      "[[0 1 2]\n",
      " [3 4 5]]\n"
     ]
    },
    {
     "data": {
      "text/plain": [
       "array([[1., 1.],\n",
       "       [1., 1.]])"
      ]
     },
     "execution_count": 92,
     "metadata": {},
     "output_type": "execute_result"
    }
   ],
   "source": [
    "# Q6: \n",
    "Y= np.arange(6).reshape(2, 3)\n",
    "print(Y)\n",
    "np.cov(Y) \n"
   ]
  },
  {
   "cell_type": "code",
   "execution_count": 104,
   "id": "86f8786c",
   "metadata": {},
   "outputs": [
    {
     "name": "stdout",
     "output_type": "stream",
     "text": [
      "Enter number of elements : 3\n",
      "D: 20\n",
      "12.909944487358056\n",
      "D: 12\n",
      "12.909944487358056\n",
      "D: 30\n",
      "12.909944487358056\n"
     ]
    }
   ],
   "source": [
    "Q7: \n",
    "import math\n",
    "lst = []\n",
    "n = int(input(\"Enter number of elements : \"))\n",
    "for i in range(0, n):\n",
    "    ele = int(input('D: '))\n",
    "    C= 50 \n",
    "    H=30 \n",
    "    Q = math.sqrt(((2 * C * D)/H))\n",
    "    print(Q)\n",
    " \n",
    "    lst.append(ele)\n"
   ]
  },
  {
   "cell_type": "code",
   "execution_count": null,
   "id": "a34ac82a",
   "metadata": {},
   "outputs": [],
   "source": []
  },
  {
   "cell_type": "code",
   "execution_count": null,
   "id": "bbcb60fa",
   "metadata": {},
   "outputs": [],
   "source": []
  }
 ],
 "metadata": {
  "kernelspec": {
   "display_name": "Python 3",
   "language": "python",
   "name": "python3"
  },
  "language_info": {
   "codemirror_mode": {
    "name": "ipython",
    "version": 3
   },
   "file_extension": ".py",
   "mimetype": "text/x-python",
   "name": "python",
   "nbconvert_exporter": "python",
   "pygments_lexer": "ipython3",
   "version": "3.8.8"
  }
 },
 "nbformat": 4,
 "nbformat_minor": 5
}
